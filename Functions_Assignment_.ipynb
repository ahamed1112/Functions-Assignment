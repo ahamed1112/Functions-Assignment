{
  "nbformat": 4,
  "nbformat_minor": 0,
  "metadata": {
    "colab": {
      "provenance": []
    },
    "kernelspec": {
      "name": "python3",
      "display_name": "Python 3"
    },
    "language_info": {
      "name": "python"
    }
  },
  "cells": [
    {
      "cell_type": "code",
      "execution_count": 2,
      "metadata": {
        "colab": {
          "base_uri": "https://localhost:8080/",
          "height": 0
        },
        "collapsed": true,
        "id": "t5ToTIJju9fD",
        "outputId": "a36ebaad-d7cd-4c75-cf41-3ed310cba7d9"
      },
      "outputs": [
        {
          "output_type": "error",
          "ename": "IndentationError",
          "evalue": "unindent does not match any outer indentation level (<tokenize>, line 6)",
          "traceback": [
            "\u001b[0;36m  File \u001b[0;32m\"<tokenize>\"\u001b[0;36m, line \u001b[0;32m6\u001b[0m\n\u001b[0;31m    *A method is a function that is associated with an object (usually a class instance).\u001b[0m\n\u001b[0m    ^\u001b[0m\n\u001b[0;31mIndentationError\u001b[0m\u001b[0;31m:\u001b[0m unindent does not match any outer indentation level\n"
          ]
        }
      ],
      "source": [
        " 1. What is the difference between a function and a method in Python?\n",
        "Ans- Function\n",
        " *A function is a block of reusable code that is independent and can be defined using the def keyword.\n",
        " *It is not tied to any object and can be called on its own.\n",
        "    Method\n",
        "  *A method is a function that is associated with an object (usually a class instance).\n",
        "  *It must be called on an object and often modifies or interacts with the object’s attributes.\n",
        "  Methods are defined inside a class and usually take self as the first parameter."
      ]
    },
    {
      "cell_type": "markdown",
      "source": [
        "2.  Explain the concept of function arguments and parameters in Python.\n",
        "Ans-  **Parameters**\n",
        "     *Parameters are variables listed in a function’s definition.\n",
        "     *They act as placeholders that receive values when the function is called.\n",
        "\n",
        "     **Arguments**\n",
        "     *Arguments are the actual values passed to a function when it is called.\n",
        "     *These values replace the parameters during execution.\n",
        "\n",
        "\n"
      ],
      "metadata": {
        "id": "3JdJ_tpvwQt5"
      }
    },
    {
      "cell_type": "markdown",
      "source": [
        "3.  What are the different ways to define and call a function in Python?\n",
        "Ans- The different ways to define and call a function in python are\n",
        "     *Regular Function\n",
        "     *Default Parameter\n",
        "     **args\n",
        "     ***kwargs\n",
        "     *Lambda Function\n",
        "     *Nested Function\n",
        "     *Recursive Function"
      ],
      "metadata": {
        "id": "WIUm0i5syJLW"
      }
    },
    {
      "cell_type": "markdown",
      "source": [
        "4.   What is the purpose of the `return` statement in a Python function?\n",
        "Ans- The return statement in Python is used to exit a function and send back a value to the caller.\n",
        "\n"
      ],
      "metadata": {
        "id": "XtA731RVzWtR"
      }
    },
    {
      "cell_type": "markdown",
      "source": [
        "5.   What are iterators in Python and how do they differ from iterables?\n",
        "Ans- An Iterator - An iterator is an object that produces values one at a time using __next__().\n",
        "*It remembers its current position and does not restart automatically.\n",
        "They are different from iterables from following\n",
        "*An object that can be looped over\n",
        "*It has Has __iter__() method\n",
        "*It Stores all elements"
      ],
      "metadata": {
        "id": "pdbMBy5jzm7J"
      }
    },
    {
      "cell_type": "markdown",
      "source": [
        "6.  Explain the concept of generators in Python and how they are defined.\n",
        "Ans - A generator is a special type of function in Python that remembers its state and produces values one at a time instead of returning everything at once.\n",
        "   - A generator is defined like a function but uses yield instead of return.\n",
        "\n",
        "\n"
      ],
      "metadata": {
        "id": "VbGQmdzr04-n"
      }
    },
    {
      "cell_type": "markdown",
      "source": [
        " 7. What are the advantages of using generators over regular functions?\n",
        "Ans - Generators are better than regular functions in certain cases because they are memory-efficient, faster, and more convenient when dealing with large data.\n",
        "  *It Saves Memory\n",
        "  *Faster Execution\n",
        "  *Remembers Where It Left Off\n",
        "  *Easy to Write and Read\n"
      ],
      "metadata": {
        "id": "2CPS7mXG1hVt"
      }
    },
    {
      "cell_type": "markdown",
      "source": [
        " 8. What is a lambda function in Python and when is it typically used?\n",
        "Ans - A lambda function is a small, anonymous function that is defined using the lambda keyword. It can have multiple inputs but only one expression (no multiple statements or loops).\n",
        " When is Lambda Function Used\n",
        " *When You Need a Quick, One-Time Function\n",
        " *When Passing a Simple Function as an Argument\n",
        " *When Writing Concise Code in return Statements"
      ],
      "metadata": {
        "id": "8rp98GPE2Pnd"
      }
    },
    {
      "cell_type": "markdown",
      "source": [
        " 9. Explain the purpose and usage of the `map()` function in Python.\n",
        "Ans - The map() function applies a given function to each item in an iterable and returns a new iterable  with the results.\n",
        "It is used\n",
        " *when applying a function to each element of a sequence\n",
        " *When working with large datasets (memory efficiency).\n",
        "\n"
      ],
      "metadata": {
        "id": "37xYdPO63BZ-"
      }
    },
    {
      "cell_type": "markdown",
      "source": [
        " 10. What is the difference between `map()`, `reduce()`, and `filter()` functions in Python?\n",
        "Ans - 1. map() Applies a Function to Each Element\n",
        "     *Transforms each element of an iterable using a function.\n",
        "     *A new iterable with transformed values.\n",
        "     2.filter() Selects Elements That Meet a Condition\n",
        "     *filters elements from an iterable based on a condition (True/False).\n",
        "     *A new iterable with only elements that satisfy the condition.\n",
        "     3.reduce() Reduces an Iterable to a Single Value\n",
        "     *Combines all elements in an iterable into one single value.\n",
        "     *A single accumulated result.\n",
        "     *from functools import reduce\n",
        "     "
      ],
      "metadata": {
        "id": "TO-Qex6V3sw1"
      }
    },
    {
      "cell_type": "markdown",
      "source": [
        "11. Using pen & Paper write the internal mechanism for sum operation using  reduce function on this given  list:[47,11,42,13];\n",
        "Ans -\n"
      ],
      "metadata": {
        "id": "szmYjZkq45Vb"
      }
    },
    {
      "cell_type": "markdown",
      "source": [
        "        Practical Questions:"
      ],
      "metadata": {
        "id": "qfcAlUKU8JEa"
      }
    },
    {
      "cell_type": "markdown",
      "source": [
        " 1. Write a Python function that takes a list of numbers as input and returns the sum of all even numbers in\n",
        "the list."
      ],
      "metadata": {
        "id": "J4FeIqwE8MhQ"
      }
    },
    {
      "cell_type": "code",
      "source": [
        "def sum_of_evens(numbers):\n",
        "    return sum(filter(lambda x: x % 2 == 0, numbers))\n"
      ],
      "metadata": {
        "id": "SPSAgDYW8SL7"
      },
      "execution_count": null,
      "outputs": []
    },
    {
      "cell_type": "markdown",
      "source": [
        " 2. Create a Python function that accepts a string and returns the reverse of that string.\n"
      ],
      "metadata": {
        "id": "VQItL9hL8i_Z"
      }
    },
    {
      "cell_type": "code",
      "source": [
        "def reverse_string(s):\n",
        "    return s[::-1]"
      ],
      "metadata": {
        "id": "kgoYDMCy8mAs"
      },
      "execution_count": null,
      "outputs": []
    },
    {
      "cell_type": "markdown",
      "source": [
        "3. Implement a Python function that takes a list of integers and returns a new list containing the squares of each number"
      ],
      "metadata": {
        "id": "UdQ-a6BL8r4L"
      }
    },
    {
      "cell_type": "code",
      "source": [
        "def square_numbers(numbers):\n",
        "    return list(map(lambda x: x**2, numbers))"
      ],
      "metadata": {
        "id": "rsCB1CmJ8xMl"
      },
      "execution_count": null,
      "outputs": []
    },
    {
      "cell_type": "markdown",
      "source": [
        " 4. Write a Python function that checks if a given number is prime or not from 1 to 200.\n"
      ],
      "metadata": {
        "id": "LCG0mxfj85pW"
      }
    },
    {
      "cell_type": "code",
      "source": [
        "def is_prime(n):\n",
        "    if n < 2:\n",
        "        return False\n",
        "    for i in range(2, int(n**0.5) + 1):\n",
        "        if n % i == 0:\n",
        "            return False\n",
        "    return True"
      ],
      "metadata": {
        "id": "LhAGuerj88nx"
      },
      "execution_count": null,
      "outputs": []
    },
    {
      "cell_type": "markdown",
      "source": [
        "5. Create an iterator class in Python that generates the Fibonacci sequence up to a specified number of terms."
      ],
      "metadata": {
        "id": "iqCiamn49Hr0"
      }
    },
    {
      "cell_type": "code",
      "source": [
        "class FibonacciIterator:\n",
        "    def __init__(self, n):\n",
        "        self.n = n\n",
        "        self.a, self.b = 0, 1\n",
        "        self.count = 0\n",
        "\n",
        "    def __iter__(self):\n",
        "        return self\n",
        "    def __next__(self):\n",
        "        if self.count >= self.n:\n",
        "            raise StopIteration\n",
        "        result = self.a\n",
        "        self.a, self.b = self.b, self.a + self.b\n",
        "        self.count += 1\n",
        "        return result\n",
        "\n"
      ],
      "metadata": {
        "id": "-KuJ3rrv9QU0"
      },
      "execution_count": null,
      "outputs": []
    },
    {
      "cell_type": "markdown",
      "source": [
        " 6. Write a generator function in Python that yields the powers of 2 up to a given exponent.\n"
      ],
      "metadata": {
        "id": "gdrJEEAx9iBc"
      }
    },
    {
      "cell_type": "code",
      "source": [
        "def powers_of_2(max_exponent):\n",
        "    for i in range(max_exponent + 1):\n",
        "        yield 2 ** i\n"
      ],
      "metadata": {
        "id": "YNsTFlEv9k47"
      },
      "execution_count": null,
      "outputs": []
    },
    {
      "cell_type": "markdown",
      "source": [
        " 7. Implement a generator function that reads a file line by line and yields each line as a string.\n"
      ],
      "metadata": {
        "id": "MDVfA2_M91W1"
      }
    },
    {
      "cell_type": "code",
      "source": [
        "def read_file_line_by_line(filename):\n",
        "    with open(filename, 'r') as file:\n",
        "        for line in file:\n",
        "            yield line.strip()\n",
        "\n"
      ],
      "metadata": {
        "id": "X9DDgOpy94fm"
      },
      "execution_count": null,
      "outputs": []
    },
    {
      "cell_type": "markdown",
      "source": [
        " 8. Use a lambda function in Python to sort a list of tuples based on the second element of each tuple.\n"
      ],
      "metadata": {
        "id": "g_XTauLA-MsE"
      }
    },
    {
      "cell_type": "code",
      "source": [
        "data = [(1, 5), (3, 2), (4, 8), (2, 1)]\n",
        "\n",
        "sorted_data = sorted(data, key=lambda x: x[1])\n",
        "\n",
        "print(sorted_data)\n"
      ],
      "metadata": {
        "id": "_MHbrHV8-PN_"
      },
      "execution_count": null,
      "outputs": []
    },
    {
      "cell_type": "markdown",
      "source": [
        " 9. Write a Python program that uses `map()` to convert a list of temperatures from Celsius to Fahrenheit.\n"
      ],
      "metadata": {
        "id": "mRbFgpoM-dLR"
      }
    },
    {
      "cell_type": "code",
      "source": [
        "def celsius_to_fahrenheit(celsius):\n",
        "    return (celsius * 9/5) + 32\n",
        "\n",
        "celsius_temps = [0, 10, 20, 30, 40, 100]\n",
        "\n",
        "fahrenheit_temps = list(map(celsius_to_fahrenheit, celsius_temps))\n",
        "\n",
        "print(fahrenheit_temps)"
      ],
      "metadata": {
        "id": "xWmgJS-Q-gvI"
      },
      "execution_count": null,
      "outputs": []
    },
    {
      "cell_type": "markdown",
      "source": [
        " 10. Create a Python program that uses `filter()` to remove all the vowels from a given string.\n"
      ],
      "metadata": {
        "id": "jnVvoKgZ-qYy"
      }
    },
    {
      "cell_type": "code",
      "source": [
        "def remove_vowels(s):\n",
        "    vowels = \"aeiouAEIOU\"\n",
        "    return \"\".join(filter(lambda char: char not in vowels, s))\n",
        "\n"
      ],
      "metadata": {
        "id": "2KIwOdQQ-ujR"
      },
      "execution_count": null,
      "outputs": []
    },
    {
      "cell_type": "markdown",
      "source": [
        " 11) Imagine an accounting routine used in a book shop. It works on a list with sublists, which look like this:\n",
        " Order number  Book title and author              Quantity      Price per order\n",
        "  34587         Learning Python,Mark lutz            4             40.95\n",
        "  98762         Programming Python,Mark lutz         5             56.80\n",
        "  77226         Head First Python,Paul Barry         3             32.95\n",
        "  88112        EnifUhrung in Python3, Berend Klein   3             24.99\n",
        " Write a Python program, which returns a list with 2-tuples. Each tuple consists of the order number and the product of the price per item and the quantity. The product should be increased by 10,- € if the value of the\n",
        "order is smaller than 100,00 €.\n",
        " Write a Python program using lambda and map"
      ],
      "metadata": {
        "id": "KULlZDbG-2Q3"
      }
    },
    {
      "cell_type": "code",
      "source": [
        "orders = [\n",
        "    (34587, \"Learning Python, Mark Lutz\", 4, 40.95),\n",
        "    (98762, \"Programming Python, Mark Lutz\", 5, 56.80),\n",
        "    (77226, \"Head First Python, Paul Barry\", 3, 32.95),\n",
        "    (88112, \"Einführung in Python3, Bernd Klein\", 3, 24.99)\n",
        "]\n",
        "\n",
        "order_totals = list(map(lambda order:\n",
        "    (order[0], order[2] * order[3] + (10 if order[2] * order[3] < 100 else 0)), orders))\n",
        "\n",
        "print(order_totals)\n"
      ],
      "metadata": {
        "id": "9Mf4wQP6Bp7l"
      },
      "execution_count": null,
      "outputs": []
    }
  ]
}